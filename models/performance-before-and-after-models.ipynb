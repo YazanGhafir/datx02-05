{
 "cells": [
  {
   "cell_type": "markdown",
   "metadata": {},
   "source": [
    "# Pre-post performance models\n",
    "In this file we are creating models that are based on the dataset that only contain\n",
    "individual parameters and the preperformance and the postperformance."
   ]
  },
  {
   "cell_type": "code",
   "execution_count": 1,
   "metadata": {},
   "outputs": [],
   "source": [
    "from helpers import print_mean_squared_error, print_coefficient_of_determination"
   ]
  },
  {
   "cell_type": "code",
   "execution_count": 9,
   "metadata": {},
   "outputs": [],
   "source": [
    "import pandas as pd\n",
    "import numpy as np\n",
    "from sklearn.model_selection import train_test_split\n",
    "\n",
    "#Preprocess the simpler modell\n",
    "#Labels \n",
    "\n",
    "L = []\n",
    "for i in range(90):\n",
    "    L.append(f\"rep{i}\")\n",
    "    L.append(f\"weight{i}\")\n",
    "\n",
    "L3 = [\"age\", \"person_weight\", \"gender\", \"preperformance\", \"performance\"]\n",
    "L += L3\n",
    "\n",
    "# Read the CSV file.\n",
    "data = pd.read_csv(\"./data/regression_dataframes2.csv\", names=L)\n",
    "data = data[L3]\n",
    "data = data.dropna()\n",
    "# Shuffle the dataset.\n",
    "data_shuffled = data.sample(frac=1.0, random_state=0)\n",
    "\n",
    "# Split into input part X and output part Y.\n",
    "X = data_shuffled.drop('performance', axis=1)\n",
    "\n",
    "Y = data_shuffled['performance']\n",
    "Y.head()\n",
    "\n",
    "# # Partition the data into training and test sets.\n",
    "Xtrain, Xtest, Ytrain, Ytest = train_test_split(X, Y, test_size=0.2, random_state=0)\n"
   ]
  },
  {
   "cell_type": "code",
   "execution_count": 3,
   "metadata": {},
   "outputs": [
    {
     "data": {
      "text/html": [
       "<div>\n",
       "<style scoped>\n",
       "    .dataframe tbody tr th:only-of-type {\n",
       "        vertical-align: middle;\n",
       "    }\n",
       "\n",
       "    .dataframe tbody tr th {\n",
       "        vertical-align: top;\n",
       "    }\n",
       "\n",
       "    .dataframe thead th {\n",
       "        text-align: right;\n",
       "    }\n",
       "</style>\n",
       "<table border=\"1\" class=\"dataframe\">\n",
       "  <thead>\n",
       "    <tr style=\"text-align: right;\">\n",
       "      <th></th>\n",
       "      <th>age</th>\n",
       "      <th>person_weight</th>\n",
       "      <th>gender</th>\n",
       "      <th>preperformance</th>\n",
       "      <th>performance</th>\n",
       "    </tr>\n",
       "  </thead>\n",
       "  <tbody>\n",
       "    <tr>\n",
       "      <th>0</th>\n",
       "      <td>48.0</td>\n",
       "      <td>86.0</td>\n",
       "      <td>2.0</td>\n",
       "      <td>46.0</td>\n",
       "      <td>61.066083</td>\n",
       "    </tr>\n",
       "    <tr>\n",
       "      <th>1</th>\n",
       "      <td>32.0</td>\n",
       "      <td>73.0</td>\n",
       "      <td>1.0</td>\n",
       "      <td>54.0</td>\n",
       "      <td>69.396036</td>\n",
       "    </tr>\n",
       "    <tr>\n",
       "      <th>2</th>\n",
       "      <td>25.0</td>\n",
       "      <td>75.0</td>\n",
       "      <td>0.0</td>\n",
       "      <td>38.0</td>\n",
       "      <td>47.263152</td>\n",
       "    </tr>\n",
       "    <tr>\n",
       "      <th>3</th>\n",
       "      <td>18.0</td>\n",
       "      <td>62.0</td>\n",
       "      <td>2.0</td>\n",
       "      <td>52.0</td>\n",
       "      <td>63.815772</td>\n",
       "    </tr>\n",
       "    <tr>\n",
       "      <th>4</th>\n",
       "      <td>31.0</td>\n",
       "      <td>90.0</td>\n",
       "      <td>1.0</td>\n",
       "      <td>46.0</td>\n",
       "      <td>57.693962</td>\n",
       "    </tr>\n",
       "  </tbody>\n",
       "</table>\n",
       "</div>"
      ],
      "text/plain": [
       "    age  person_weight  gender  preperformance  performance\n",
       "0  48.0           86.0     2.0            46.0    61.066083\n",
       "1  32.0           73.0     1.0            54.0    69.396036\n",
       "2  25.0           75.0     0.0            38.0    47.263152\n",
       "3  18.0           62.0     2.0            52.0    63.815772\n",
       "4  31.0           90.0     1.0            46.0    57.693962"
      ]
     },
     "execution_count": 3,
     "metadata": {},
     "output_type": "execute_result"
    }
   ],
   "source": [
    "data.head()"
   ]
  },
  {
   "cell_type": "markdown",
   "metadata": {},
   "source": [
    "## Regular linear regression"
   ]
  },
  {
   "cell_type": "code",
   "execution_count": 35,
   "metadata": {},
   "outputs": [
    {
     "name": "stdout",
     "output_type": "stream",
     "text": [
      "Mean squared error: 1.18\n",
      "Coefficient of determination: 0.98\n"
     ]
    }
   ],
   "source": [
    "from sklearn.linear_model import LinearRegression\n",
    "from sklearn.metrics import mean_squared_error, r2_score\n",
    "import matplotlib.pyplot as plt\n",
    "\n",
    "\n",
    "#Träna modellen\n",
    "lr = LinearRegression()\n",
    "lr.fit(Xtrain,Ytrain)\n",
    "\n",
    "#Använd på testsettet\n",
    "Ypred = lr.predict(Xtest)\n",
    "\n",
    "lr_mean_squared_error = mean_squared_error(Ytest, Ypred)\n",
    "lr_r2_score = r2_score(Ytest, Ypred)\n",
    "\n",
    "print_mean_squared_error(lr_mean_squared_error)\n",
    "print_coefficient_of_determination(lr_r2_score)"
   ]
  },
  {
   "cell_type": "markdown",
   "metadata": {},
   "source": [
    "## Ridge regression"
   ]
  },
  {
   "cell_type": "code",
   "execution_count": 34,
   "metadata": {},
   "outputs": [
    {
     "name": "stdout",
     "output_type": "stream",
     "text": [
      "Mean squared error: 1.18\n",
      "Coefficient of determination: 0.98\n"
     ]
    }
   ],
   "source": [
    "#Ridge regression\n",
    "from sklearn.linear_model import Ridge\n",
    "ridge = Ridge(alpha=1.0)\n",
    "ridge.fit(Xtrain, Ytrain)\n",
    "# Ridge()\n",
    "ridge_Ypred = ridge.predict(Xtest)\n",
    "\n",
    "\n",
    "ridge_mean_squared_error = mean_squared_error(Ytest, ridge_Ypred)\n",
    "ridge_r2_score = r2_score(Ytest, ridge_Ypred)\n",
    "\n",
    "print_mean_squared_error(ridge_mean_squared_error)\n",
    "print_coefficient_of_determination(ridge_r2_score)"
   ]
  },
  {
   "cell_type": "markdown",
   "metadata": {},
   "source": [
    "## Lasso regression"
   ]
  },
  {
   "cell_type": "code",
   "execution_count": 6,
   "metadata": {},
   "outputs": [
    {
     "name": "stdout",
     "output_type": "stream",
     "text": [
      "Mean squared error: 1.20\n",
      "Coefficient of determination: 0.98\n"
     ]
    }
   ],
   "source": [
    "from sklearn import linear_model\n",
    "lasso = linear_model.Lasso(alpha=0.1)\n",
    "lasso.fit(Xtrain,Ytrain)\n",
    "lasso_Ypred = lasso.predict(Xtest)\n",
    "\n",
    "lasso_mean_squared_error = mean_squared_error(Ytest, lasso_Ypred)\n",
    "lasso_r2_score = r2_score(Ytest, lasso_Ypred)\n",
    "\n",
    "print_mean_squared_error(lasso_mean_squared_error)\n",
    "print_coefficient_of_determination(lasso_r2_score)"
   ]
  },
  {
   "cell_type": "markdown",
   "metadata": {},
   "source": [
    "## Summaries of the results"
   ]
  },
  {
   "cell_type": "code",
   "execution_count": 36,
   "metadata": {},
   "outputs": [
    {
     "name": "stdout",
     "output_type": "stream",
     "text": [
      "Normal linear regression:\n",
      "Mean squared error: 1.18\n",
      "Coefficient of determination: 0.98\n",
      "\n",
      "\n",
      "Ridge regression:\n",
      "Mean squared error: 1.18\n",
      "Coefficient of determination: 0.98\n",
      "\n",
      "\n",
      "Lasso regression:\n",
      "Mean squared error: 1.20\n",
      "Coefficient of determination: 0.98\n",
      "\n",
      "\n"
     ]
    },
    {
     "data": {
      "image/png": "[encoded data removed]",
      "text/plain": [
       "<Figure size 432x288 with 1 Axes>"
      ]
     },
     "metadata": {},
     "output_type": "display_data"
    }
   ],
   "source": [
    "print(\"Normal linear regression:\")\n",
    "print_mean_squared_error(lr_mean_squared_error)\n",
    "print_coefficient_of_determination(lr_r2_score)\n",
    "print(\"\\n\")\n",
    "\n",
    "print(\"Ridge regression:\")\n",
    "print_mean_squared_error(ridge_mean_squared_error)\n",
    "print_coefficient_of_determination(ridge_r2_score)\n",
    "print(\"\\n\")\n",
    "\n",
    "print(\"Lasso regression:\")\n",
    "print_mean_squared_error(lasso_mean_squared_error)\n",
    "print_coefficient_of_determination(lasso_r2_score)\n",
    "print(\"\\n\")\n",
    "\n",
    "plt.scatter(Xtest[\"preperformance\"], Ytest, color='black')\n",
    "plt.plot(Xtest[\"preperformance\"], Ypred, color='blue', linewidth=1)\n",
    "plt.plot(Xtest[\"preperformance\"], ridge_Ypred, color='green', linewidth=1)\n",
    "plt.plot(Xtest[\"preperformance\"], lasso_Ypred, color='red', linewidth=1)\n",
    "plt.xticks(())\n",
    "plt.yticks(())\n",
    "plt.show()"
   ]
  },
  {
   "cell_type": "markdown",
   "metadata": {},
   "source": [
    "# Save model\n",
    "Saves the choosen model(s) to a file to be used in the recommendation engine."
   ]
  },
  {
   "cell_type": "code",
   "execution_count": 3,
   "metadata": {},
   "outputs": [],
   "source": [
    "import pickle\n",
    "\n",
    "# In the current state of recommendation engine, it is important to name the model after\n",
    "# the program the data comes from. (i.e the name of the csv file in simulator/training_programs)\n",
    "# Should probably make this automatic in some way.\n",
    "\n",
    "filename = 'saved_model.sav'\n",
    "# pickle.dump(ridge, open(filename, 'wb'))"
   ]
  }
 ],
 "metadata": {
  "kernelspec": {
   "display_name": "Python 3",
   "language": "python",
   "name": "python3"
  },
  "language_info": {
   "codemirror_mode": {
    "name": "ipython",
    "version": 3
   },
   "file_extension": ".py",
   "mimetype": "text/x-python",
   "name": "python",
   "nbconvert_exporter": "python",
   "pygments_lexer": "ipython3",
   "version": "3.7.6"
  }
 },
 "nbformat": 4,
 "nbformat_minor": 4
}
