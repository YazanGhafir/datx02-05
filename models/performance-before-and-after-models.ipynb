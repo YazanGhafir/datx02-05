{
 "cells": [
  {
   "cell_type": "markdown",
   "metadata": {},
   "source": [
    "# Pre-post performance models\n",
    "In this file we are creating models that are based on the dataset that only contain\n",
    "individual parameters and the preperformance and the postperformance."
   ]
  },
  {
   "cell_type": "code",
   "execution_count": 1,
   "metadata": {},
   "outputs": [],
   "source": [
    "from helpers import print_mean_squared_error, print_coefficient_of_determination, calculate_age\n",
    "import pandas as pd\n",
    "import numpy as np\n",
    "from sklearn.model_selection import train_test_split"
   ]
  },
  {
   "cell_type": "code",
   "execution_count": 2,
   "metadata": {},
   "outputs": [
    {
     "data": {
      "text/html": [
       "<div>\n",
       "<style scoped>\n",
       "    .dataframe tbody tr th:only-of-type {\n",
       "        vertical-align: middle;\n",
       "    }\n",
       "\n",
       "    .dataframe tbody tr th {\n",
       "        vertical-align: top;\n",
       "    }\n",
       "\n",
       "    .dataframe thead th {\n",
       "        text-align: right;\n",
       "    }\n",
       "</style>\n",
       "<table border=\"1\" class=\"dataframe\">\n",
       "  <thead>\n",
       "    <tr style=\"text-align: right;\">\n",
       "      <th></th>\n",
       "      <th>rep0</th>\n",
       "      <th>weight0</th>\n",
       "      <th>rep1</th>\n",
       "      <th>weight1</th>\n",
       "      <th>rep2</th>\n",
       "      <th>weight2</th>\n",
       "      <th>rep3</th>\n",
       "      <th>weight3</th>\n",
       "      <th>rep4</th>\n",
       "      <th>weight4</th>\n",
       "      <th>...</th>\n",
       "      <th>weight69</th>\n",
       "      <th>rep70</th>\n",
       "      <th>weight70</th>\n",
       "      <th>rep71</th>\n",
       "      <th>weight71</th>\n",
       "      <th>Age</th>\n",
       "      <th>Gender</th>\n",
       "      <th>Bodyweight</th>\n",
       "      <th>Preperformance</th>\n",
       "      <th>Performance</th>\n",
       "    </tr>\n",
       "  </thead>\n",
       "  <tbody>\n",
       "    <tr>\n",
       "      <th>0</th>\n",
       "      <td>70.0</td>\n",
       "      <td>17.7</td>\n",
       "      <td>70.0</td>\n",
       "      <td>17.7</td>\n",
       "      <td>70.0</td>\n",
       "      <td>17.7</td>\n",
       "      <td>70.0</td>\n",
       "      <td>17.7</td>\n",
       "      <td>70.0</td>\n",
       "      <td>17.7</td>\n",
       "      <td>...</td>\n",
       "      <td>17.7</td>\n",
       "      <td>70.0</td>\n",
       "      <td>17.7</td>\n",
       "      <td>70.0</td>\n",
       "      <td>17.7</td>\n",
       "      <td>27.0</td>\n",
       "      <td>0.0</td>\n",
       "      <td>58.468926</td>\n",
       "      <td>59.0</td>\n",
       "      <td>59.0</td>\n",
       "    </tr>\n",
       "    <tr>\n",
       "      <th>1</th>\n",
       "      <td>70.0</td>\n",
       "      <td>17.7</td>\n",
       "      <td>70.0</td>\n",
       "      <td>17.7</td>\n",
       "      <td>70.0</td>\n",
       "      <td>17.7</td>\n",
       "      <td>70.0</td>\n",
       "      <td>17.7</td>\n",
       "      <td>70.0</td>\n",
       "      <td>17.7</td>\n",
       "      <td>...</td>\n",
       "      <td>17.7</td>\n",
       "      <td>70.0</td>\n",
       "      <td>17.7</td>\n",
       "      <td>70.0</td>\n",
       "      <td>17.7</td>\n",
       "      <td>25.0</td>\n",
       "      <td>0.0</td>\n",
       "      <td>76.251937</td>\n",
       "      <td>59.0</td>\n",
       "      <td>59.0</td>\n",
       "    </tr>\n",
       "    <tr>\n",
       "      <th>2</th>\n",
       "      <td>70.0</td>\n",
       "      <td>20.4</td>\n",
       "      <td>70.0</td>\n",
       "      <td>20.4</td>\n",
       "      <td>70.0</td>\n",
       "      <td>20.4</td>\n",
       "      <td>70.0</td>\n",
       "      <td>20.4</td>\n",
       "      <td>70.0</td>\n",
       "      <td>20.4</td>\n",
       "      <td>...</td>\n",
       "      <td>20.4</td>\n",
       "      <td>70.0</td>\n",
       "      <td>20.4</td>\n",
       "      <td>70.0</td>\n",
       "      <td>20.4</td>\n",
       "      <td>21.0</td>\n",
       "      <td>0.0</td>\n",
       "      <td>81.538138</td>\n",
       "      <td>68.0</td>\n",
       "      <td>68.0</td>\n",
       "    </tr>\n",
       "    <tr>\n",
       "      <th>3</th>\n",
       "      <td>70.0</td>\n",
       "      <td>18.9</td>\n",
       "      <td>70.0</td>\n",
       "      <td>18.9</td>\n",
       "      <td>70.0</td>\n",
       "      <td>18.9</td>\n",
       "      <td>70.0</td>\n",
       "      <td>18.9</td>\n",
       "      <td>70.0</td>\n",
       "      <td>18.9</td>\n",
       "      <td>...</td>\n",
       "      <td>18.9</td>\n",
       "      <td>70.0</td>\n",
       "      <td>18.9</td>\n",
       "      <td>70.0</td>\n",
       "      <td>18.9</td>\n",
       "      <td>26.0</td>\n",
       "      <td>0.0</td>\n",
       "      <td>73.079407</td>\n",
       "      <td>63.0</td>\n",
       "      <td>63.0</td>\n",
       "    </tr>\n",
       "    <tr>\n",
       "      <th>4</th>\n",
       "      <td>70.0</td>\n",
       "      <td>21.9</td>\n",
       "      <td>70.0</td>\n",
       "      <td>21.9</td>\n",
       "      <td>70.0</td>\n",
       "      <td>21.9</td>\n",
       "      <td>70.0</td>\n",
       "      <td>21.9</td>\n",
       "      <td>70.0</td>\n",
       "      <td>21.9</td>\n",
       "      <td>...</td>\n",
       "      <td>21.9</td>\n",
       "      <td>70.0</td>\n",
       "      <td>21.9</td>\n",
       "      <td>70.0</td>\n",
       "      <td>21.9</td>\n",
       "      <td>28.0</td>\n",
       "      <td>0.0</td>\n",
       "      <td>67.292333</td>\n",
       "      <td>73.0</td>\n",
       "      <td>73.0</td>\n",
       "    </tr>\n",
       "  </tbody>\n",
       "</table>\n",
       "<p>5 rows × 149 columns</p>\n",
       "</div>"
      ],
      "text/plain": [
       "   rep0  weight0  rep1  weight1  rep2  weight2  rep3  weight3  rep4  weight4  \\\n",
       "0  70.0     17.7  70.0     17.7  70.0     17.7  70.0     17.7  70.0     17.7   \n",
       "1  70.0     17.7  70.0     17.7  70.0     17.7  70.0     17.7  70.0     17.7   \n",
       "2  70.0     20.4  70.0     20.4  70.0     20.4  70.0     20.4  70.0     20.4   \n",
       "3  70.0     18.9  70.0     18.9  70.0     18.9  70.0     18.9  70.0     18.9   \n",
       "4  70.0     21.9  70.0     21.9  70.0     21.9  70.0     21.9  70.0     21.9   \n",
       "\n",
       "   ...  weight69  rep70  weight70  rep71  weight71   Age  Gender  Bodyweight  \\\n",
       "0  ...      17.7   70.0      17.7   70.0      17.7  27.0     0.0   58.468926   \n",
       "1  ...      17.7   70.0      17.7   70.0      17.7  25.0     0.0   76.251937   \n",
       "2  ...      20.4   70.0      20.4   70.0      20.4  21.0     0.0   81.538138   \n",
       "3  ...      18.9   70.0      18.9   70.0      18.9  26.0     0.0   73.079407   \n",
       "4  ...      21.9   70.0      21.9   70.0      21.9  28.0     0.0   67.292333   \n",
       "\n",
       "   Preperformance  Performance  \n",
       "0            59.0         59.0  \n",
       "1            59.0         59.0  \n",
       "2            68.0         68.0  \n",
       "3            63.0         63.0  \n",
       "4            73.0         73.0  \n",
       "\n",
       "[5 rows x 149 columns]"
      ]
     },
     "execution_count": 2,
     "metadata": {},
     "output_type": "execute_result"
    }
   ],
   "source": [
    "# Loads raw data and transforms.\n",
    "\n",
    "individuals = pd.read_csv(\"./data/ogasawara_LL/individuals.csv\", sep=\"|\")\n",
    "logs = pd.read_csv(\"./data/ogasawara_LL/logs.csv\", sep=\"|\")\n",
    "\n",
    "logs.head()\n",
    "d = {}\n",
    "for p_id, group in logs.groupby('ID'):\n",
    "    d[str(p_id)] = group\n",
    "\n",
    "set_count = len(d.get(\"0\"))\n",
    "\n",
    "# Generate headers\n",
    "headers = []\n",
    "for i in range (set_count):\n",
    "    headers.append(f\"rep{i}\")\n",
    "    headers.append(f\"weight{i}\")\n",
    "headers.extend([\"Age\", \"Gender\", \"Bodyweight\", \"Preperformance\", \"Performance\"])\n",
    "\n",
    "data = pd.DataFrame(columns=headers)\n",
    "data.columns\n",
    "\n",
    "# Transform data\n",
    "for index, ind in individuals.iterrows():\n",
    "    entry = []\n",
    "    p_id = str(ind.get(\"ID\"))\n",
    "    \n",
    "    for index, row in d.get(p_id).iterrows():\n",
    "        entry.append(row[\"Reps\"])\n",
    "        entry.append(row[\"Weight\"])\n",
    "    \n",
    "    entry.append(calculate_age(ind[\"Birth\"]))\n",
    "    entry.append(ind[\"Gender\"])\n",
    "    entry.append(ind[\"Weight\"])\n",
    "    \n",
    "    preperformance = d.get(p_id)[\"Performance\"].values[0]\n",
    "    postperformance = d.get(p_id)[\"Performance\"].values[-1]\n",
    "    entry.append(preperformance)\n",
    "    entry.append(postperformance)\n",
    "    \n",
    "    data = data.append(pd.Series(entry, index=data.columns), ignore_index=True)\n",
    "    \n",
    "data.head()\n"
   ]
  },
  {
   "cell_type": "code",
   "execution_count": 3,
   "metadata": {},
   "outputs": [
    {
     "data": {
      "text/html": [
       "<div>\n",
       "<style scoped>\n",
       "    .dataframe tbody tr th:only-of-type {\n",
       "        vertical-align: middle;\n",
       "    }\n",
       "\n",
       "    .dataframe tbody tr th {\n",
       "        vertical-align: top;\n",
       "    }\n",
       "\n",
       "    .dataframe thead th {\n",
       "        text-align: right;\n",
       "    }\n",
       "</style>\n",
       "<table border=\"1\" class=\"dataframe\">\n",
       "  <thead>\n",
       "    <tr style=\"text-align: right;\">\n",
       "      <th></th>\n",
       "      <th>Age</th>\n",
       "      <th>Gender</th>\n",
       "      <th>Bodyweight</th>\n",
       "      <th>Preperformance</th>\n",
       "      <th>Performance</th>\n",
       "    </tr>\n",
       "  </thead>\n",
       "  <tbody>\n",
       "    <tr>\n",
       "      <th>0</th>\n",
       "      <td>27.0</td>\n",
       "      <td>0.0</td>\n",
       "      <td>58.468926</td>\n",
       "      <td>59.0</td>\n",
       "      <td>59.0</td>\n",
       "    </tr>\n",
       "    <tr>\n",
       "      <th>1</th>\n",
       "      <td>25.0</td>\n",
       "      <td>0.0</td>\n",
       "      <td>76.251937</td>\n",
       "      <td>59.0</td>\n",
       "      <td>59.0</td>\n",
       "    </tr>\n",
       "    <tr>\n",
       "      <th>2</th>\n",
       "      <td>21.0</td>\n",
       "      <td>0.0</td>\n",
       "      <td>81.538138</td>\n",
       "      <td>68.0</td>\n",
       "      <td>68.0</td>\n",
       "    </tr>\n",
       "    <tr>\n",
       "      <th>3</th>\n",
       "      <td>26.0</td>\n",
       "      <td>0.0</td>\n",
       "      <td>73.079407</td>\n",
       "      <td>63.0</td>\n",
       "      <td>63.0</td>\n",
       "    </tr>\n",
       "    <tr>\n",
       "      <th>4</th>\n",
       "      <td>28.0</td>\n",
       "      <td>0.0</td>\n",
       "      <td>67.292333</td>\n",
       "      <td>73.0</td>\n",
       "      <td>73.0</td>\n",
       "    </tr>\n",
       "  </tbody>\n",
       "</table>\n",
       "</div>"
      ],
      "text/plain": [
       "    Age  Gender  Bodyweight  Preperformance  Performance\n",
       "0  27.0     0.0   58.468926            59.0         59.0\n",
       "1  25.0     0.0   76.251937            59.0         59.0\n",
       "2  21.0     0.0   81.538138            68.0         68.0\n",
       "3  26.0     0.0   73.079407            63.0         63.0\n",
       "4  28.0     0.0   67.292333            73.0         73.0"
      ]
     },
     "execution_count": 3,
     "metadata": {},
     "output_type": "execute_result"
    }
   ],
   "source": [
    "data = data[[\"Age\", \"Gender\", \"Bodyweight\", \"Preperformance\", \"Performance\"]]\n",
    "data.head()"
   ]
  },
  {
   "cell_type": "code",
   "execution_count": 4,
   "metadata": {},
   "outputs": [],
   "source": [
    "# Split into training set and testing set.\n",
    "\n",
    "# Shuffle the dataset.\n",
    "data_shuffled = data.sample(frac=1.0, random_state=0)\n",
    "\n",
    "# Split into input part X and output part Y.\n",
    "X = data_shuffled.drop('Performance', axis=1)\n",
    "\n",
    "Y = data_shuffled['Performance']\n",
    "Y.head()\n",
    "\n",
    "# Partition the data into training and test sets.\n",
    "Xtrain, Xtest, Ytrain, Ytest = train_test_split(X, Y, test_size=0.2, random_state=0)\n"
   ]
  },
  {
   "cell_type": "markdown",
   "metadata": {},
   "source": [
    "## Regular linear regression"
   ]
  },
  {
   "cell_type": "code",
   "execution_count": 5,
   "metadata": {},
   "outputs": [
    {
     "name": "stdout",
     "output_type": "stream",
     "text": [
      "Mean squared error: 0.00\n",
      "Coefficient of determination: 1.00\n"
     ]
    }
   ],
   "source": [
    "from sklearn.linear_model import LinearRegression\n",
    "from sklearn.metrics import mean_squared_error, r2_score\n",
    "import matplotlib.pyplot as plt\n",
    "\n",
    "\n",
    "#Träna modellen\n",
    "lr = LinearRegression()\n",
    "lr.fit(Xtrain,Ytrain)\n",
    "\n",
    "#Använd på testsettet\n",
    "Ypred = lr.predict(Xtest)\n",
    "\n",
    "lr_mean_squared_error = mean_squared_error(Ytest, Ypred)\n",
    "lr_r2_score = r2_score(Ytest, Ypred)\n",
    "\n",
    "print_mean_squared_error(lr_mean_squared_error)\n",
    "print_coefficient_of_determination(lr_r2_score)"
   ]
  },
  {
   "cell_type": "markdown",
   "metadata": {},
   "source": [
    "## Ridge regression"
   ]
  },
  {
   "cell_type": "code",
   "execution_count": 6,
   "metadata": {},
   "outputs": [
    {
     "name": "stdout",
     "output_type": "stream",
     "text": [
      "Mean squared error: 0.00\n",
      "Coefficient of determination: 0.00\n"
     ]
    }
   ],
   "source": [
    "#Ridge regression\n",
    "from sklearn.linear_model import Ridge\n",
    "ridge = Ridge(alpha=1.0)\n",
    "ridge.fit(Xtrain, Ytrain)\n",
    "# Ridge()\n",
    "ridge_Ypred = ridge.predict(Xtest)\n",
    "\n",
    "\n",
    "ridge_mean_squared_error = mean_squared_error(Ytest, ridge_Ypred)\n",
    "ridge_r2_score = r2_score(Ytest, ridge_Ypred)\n",
    "\n",
    "print_mean_squared_error(ridge_mean_squared_error)\n",
    "print_coefficient_of_determination(ridge_r2_score)"
   ]
  },
  {
   "cell_type": "markdown",
   "metadata": {},
   "source": [
    "## Lasso regression"
   ]
  },
  {
   "cell_type": "code",
   "execution_count": 7,
   "metadata": {},
   "outputs": [
    {
     "name": "stdout",
     "output_type": "stream",
     "text": [
      "Mean squared error: 0.00\n",
      "Coefficient of determination: 0.00\n"
     ]
    }
   ],
   "source": [
    "from sklearn import linear_model\n",
    "lasso = linear_model.Lasso(alpha=0.1)\n",
    "lasso.fit(Xtrain,Ytrain)\n",
    "lasso_Ypred = lasso.predict(Xtest)\n",
    "\n",
    "lasso_mean_squared_error = mean_squared_error(Ytest, lasso_Ypred)\n",
    "lasso_r2_score = r2_score(Ytest, lasso_Ypred)\n",
    "\n",
    "print_mean_squared_error(lasso_mean_squared_error)\n",
    "print_coefficient_of_determination(lasso_r2_score)"
   ]
  },
  {
   "cell_type": "markdown",
   "metadata": {},
   "source": [
    "## Summaries of the results"
   ]
  },
  {
   "cell_type": "code",
   "execution_count": 8,
   "metadata": {
    "scrolled": true
   },
   "outputs": [
    {
     "name": "stdout",
     "output_type": "stream",
     "text": [
      "Normal linear regression:\n",
      "Mean squared error: 0.00\n",
      "Coefficient of determination: 1.00\n",
      "\n",
      "\n",
      "Ridge regression:\n",
      "Mean squared error: 0.00\n",
      "Coefficient of determination: 0.00\n",
      "\n",
      "\n",
      "Lasso regression:\n",
      "Mean squared error: 0.00\n",
      "Coefficient of determination: 0.00\n",
      "\n",
      "\n"
     ]
    },
    {
     "data": {
      "image/png": "[encoded data removed]",
      "text/plain": [
       "<Figure size 432x288 with 1 Axes>"
      ]
     },
     "metadata": {},
     "output_type": "display_data"
    }
   ],
   "source": [
    "print(\"Normal linear regression:\")\n",
    "print_mean_squared_error(lr_mean_squared_error)\n",
    "print_coefficient_of_determination(lr_r2_score)\n",
    "print(\"\\n\")\n",
    "\n",
    "print(\"Ridge regression:\")\n",
    "print_mean_squared_error(ridge_mean_squared_error)\n",
    "print_coefficient_of_determination(ridge_r2_score)\n",
    "print(\"\\n\")\n",
    "\n",
    "print(\"Lasso regression:\")\n",
    "print_mean_squared_error(lasso_mean_squared_error)\n",
    "print_coefficient_of_determination(lasso_r2_score)\n",
    "print(\"\\n\")\n",
    "\n",
    "plt.scatter(Xtest[\"Preperformance\"], Ytest, color='black')\n",
    "plt.plot(Xtest[\"Preperformance\"], Ypred, color='blue', linewidth=1)\n",
    "plt.plot(Xtest[\"Preperformance\"], ridge_Ypred, color='green', linewidth=1)\n",
    "plt.plot(Xtest[\"Preperformance\"], lasso_Ypred, color='red', linewidth=1)\n",
    "plt.xticks(())\n",
    "plt.yticks(())\n",
    "plt.show()"
   ]
  },
  {
   "cell_type": "markdown",
   "metadata": {},
   "source": [
    "# Save model\n",
    "Saves the choosen model(s) to a file to be used in the recommendation engine."
   ]
  },
  {
   "cell_type": "code",
   "execution_count": 11,
   "metadata": {},
   "outputs": [],
   "source": [
    "import pickle\n",
    "\n",
    "# In the current state of recommendation engine, it is important to name the model after\n",
    "# the program the data comes from. (i.e the name of the csv file in simulator/training_programs)\n",
    "# Should probably make this automatic in some way.\n",
    "\n",
    "filename = 'ogasawara_LL.sav'\n",
    "pickle.dump(ridge, open(filename, 'wb'))"
   ]
  }
 ],
 "metadata": {
  "kernelspec": {
   "display_name": "Python 3",
   "language": "python",
   "name": "python3"
  },
  "language_info": {
   "codemirror_mode": {
    "name": "ipython",
    "version": 3
   },
   "file_extension": ".py",
   "mimetype": "text/x-python",
   "name": "python",
   "nbconvert_exporter": "python",
   "pygments_lexer": "ipython3",
   "version": "3.7.6"
  }
 },
 "nbformat": 4,
 "nbformat_minor": 4
}
