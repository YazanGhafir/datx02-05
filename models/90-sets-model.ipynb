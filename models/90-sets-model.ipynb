{
  "cells": [
    {
      "cell_type": "markdown",
      "metadata": {
        "pycharm": {}
      },
      "source": [
        "# 90 sets models\n",
        "In this notebook we are creating models for using on the data that are a concatenation of 90 sets in total and the individuals parameters"
      ]
    },
    {
      "cell_type": "code",
      "execution_count": 3,
      "metadata": {
        "pycharm": {}
      },
      "outputs": [],
      "source": [
        "from helpers import print_mean_squared_error, print_coefficient_of_determination"
      ]
    },
    {
      "cell_type": "code",
      "execution_count": 93,
      "metadata": {
        "colab": {},
        "colab_type": "code",
        "id": "A1srPiTv5_mg",
        "pycharm": {}
      },
      "outputs": [],
      "source": "import pandas as pd\nfrom sklearn.model_selection import train_test_split\n\nL \u003d []\n\nfor i in range(90):\n    L.append(f\"rep{i}\")\n    L.append(f\"weight{i}\")\n\nL2 \u003d [\"age\", \"person_weight\", \"gender\", \"pre-performance\", \"performance\"]\nL +\u003d L2\n\n# Read the CSV file.\ndata \u003d pd.read_csv(\"./data/regression_dataframes2.csv\", names\u003dL)\n\n# Shuffle the dataset.\ndata_shuffled \u003d data.sample(frac\u003d1.0, random_state\u003d0)\n\nY \u003d data_shuffled[\u0027performance\u0027]\nY.head()\n\n# Split into input part X and output part Y.\nX \u003d data_shuffled.drop(\u0027performance\u0027, axis\u003d1)\n\n# # Partition the data into training and test sets.\nXtrain, Xtest, Ytrain, Ytest \u003d train_test_split(X, Y, test_size\u003d0.2, random_state\u003d0)\n"
    },
    {
      "cell_type": "code",
      "execution_count": 102,
      "metadata": {
        "colab": {
          "base_uri": "https://localhost:8080/",
          "height": 266
        },
        "colab_type": "code",
        "id": "4T41WZMi6VX_",
        "outputId": "dec1e051-15d5-4a57-ac72-a0994afeb9e6",
        "scrolled": true,
        "pycharm": {}
      },
      "outputs": [
        {
          "data": {
            "text/plain": "    rep0  weight0  rep1  weight1  rep2  weight2  rep3  weight3  rep4  weight4  \\\n26   8.0     36.0   8.0     36.0   8.0     36.0   8.0     36.0  12.0     34.0   \n86   8.0     41.0   8.0     41.0   8.0     41.0   8.0     41.0   8.0     42.0   \n2    8.0     27.0   8.0     27.0   8.0     27.0   8.0     27.0  12.0     26.0   \n55   5.0     30.0   5.0     30.0   5.0     30.0   5.0     30.0   5.0     30.0   \n75  12.0     24.0  12.0     24.0  12.0     24.0  12.0     24.0   8.0     26.0   \n\n    ...  rep87  weight87  rep88  weight88  rep89  weight89   age  \\\n26  ...    8.0      46.0    8.0      46.0    8.0      46.0  21.0   \n86  ...    8.0      53.0    8.0      53.0   12.0      50.0  18.0   \n2   ...   12.0      32.0   12.0      32.0   12.0      32.0  46.0   \n55  ...   12.0      35.0   12.0      35.0   12.0      35.0  22.0   \n75  ...   12.0      31.0   12.0      31.0   12.0      31.0  50.0   \n\n    person_weight  gender  pre-performance  \n26           89.0     2.0             48.0  \n86           66.0     2.0             55.0  \n2           107.0     0.0             36.0  \n55          104.0     0.0             38.0  \n75           61.0     1.0             35.0  \n\n[5 rows x 184 columns]",
            "text/html": "\u003cdiv\u003e\n\u003cstyle scoped\u003e\n    .dataframe tbody tr th:only-of-type {\n        vertical-align: middle;\n    }\n\n    .dataframe tbody tr th {\n        vertical-align: top;\n    }\n\n    .dataframe thead th {\n        text-align: right;\n    }\n\u003c/style\u003e\n\u003ctable border\u003d\"1\" class\u003d\"dataframe\"\u003e\n  \u003cthead\u003e\n    \u003ctr style\u003d\"text-align: right;\"\u003e\n      \u003cth\u003e\u003c/th\u003e\n      \u003cth\u003erep0\u003c/th\u003e\n      \u003cth\u003eweight0\u003c/th\u003e\n      \u003cth\u003erep1\u003c/th\u003e\n      \u003cth\u003eweight1\u003c/th\u003e\n      \u003cth\u003erep2\u003c/th\u003e\n      \u003cth\u003eweight2\u003c/th\u003e\n      \u003cth\u003erep3\u003c/th\u003e\n      \u003cth\u003eweight3\u003c/th\u003e\n      \u003cth\u003erep4\u003c/th\u003e\n      \u003cth\u003eweight4\u003c/th\u003e\n      \u003cth\u003e...\u003c/th\u003e\n      \u003cth\u003erep87\u003c/th\u003e\n      \u003cth\u003eweight87\u003c/th\u003e\n      \u003cth\u003erep88\u003c/th\u003e\n      \u003cth\u003eweight88\u003c/th\u003e\n      \u003cth\u003erep89\u003c/th\u003e\n      \u003cth\u003eweight89\u003c/th\u003e\n      \u003cth\u003eage\u003c/th\u003e\n      \u003cth\u003eperson_weight\u003c/th\u003e\n      \u003cth\u003egender\u003c/th\u003e\n      \u003cth\u003epre-performance\u003c/th\u003e\n    \u003c/tr\u003e\n  \u003c/thead\u003e\n  \u003ctbody\u003e\n    \u003ctr\u003e\n      \u003cth\u003e26\u003c/th\u003e\n      \u003ctd\u003e8.0\u003c/td\u003e\n      \u003ctd\u003e36.0\u003c/td\u003e\n      \u003ctd\u003e8.0\u003c/td\u003e\n      \u003ctd\u003e36.0\u003c/td\u003e\n      \u003ctd\u003e8.0\u003c/td\u003e\n      \u003ctd\u003e36.0\u003c/td\u003e\n      \u003ctd\u003e8.0\u003c/td\u003e\n      \u003ctd\u003e36.0\u003c/td\u003e\n      \u003ctd\u003e12.0\u003c/td\u003e\n      \u003ctd\u003e34.0\u003c/td\u003e\n      \u003ctd\u003e...\u003c/td\u003e\n      \u003ctd\u003e8.0\u003c/td\u003e\n      \u003ctd\u003e46.0\u003c/td\u003e\n      \u003ctd\u003e8.0\u003c/td\u003e\n      \u003ctd\u003e46.0\u003c/td\u003e\n      \u003ctd\u003e8.0\u003c/td\u003e\n      \u003ctd\u003e46.0\u003c/td\u003e\n      \u003ctd\u003e21.0\u003c/td\u003e\n      \u003ctd\u003e89.0\u003c/td\u003e\n      \u003ctd\u003e2.0\u003c/td\u003e\n      \u003ctd\u003e48.0\u003c/td\u003e\n    \u003c/tr\u003e\n    \u003ctr\u003e\n      \u003cth\u003e86\u003c/th\u003e\n      \u003ctd\u003e8.0\u003c/td\u003e\n      \u003ctd\u003e41.0\u003c/td\u003e\n      \u003ctd\u003e8.0\u003c/td\u003e\n      \u003ctd\u003e41.0\u003c/td\u003e\n      \u003ctd\u003e8.0\u003c/td\u003e\n      \u003ctd\u003e41.0\u003c/td\u003e\n      \u003ctd\u003e8.0\u003c/td\u003e\n      \u003ctd\u003e41.0\u003c/td\u003e\n      \u003ctd\u003e8.0\u003c/td\u003e\n      \u003ctd\u003e42.0\u003c/td\u003e\n      \u003ctd\u003e...\u003c/td\u003e\n      \u003ctd\u003e8.0\u003c/td\u003e\n      \u003ctd\u003e53.0\u003c/td\u003e\n      \u003ctd\u003e8.0\u003c/td\u003e\n      \u003ctd\u003e53.0\u003c/td\u003e\n      \u003ctd\u003e12.0\u003c/td\u003e\n      \u003ctd\u003e50.0\u003c/td\u003e\n      \u003ctd\u003e18.0\u003c/td\u003e\n      \u003ctd\u003e66.0\u003c/td\u003e\n      \u003ctd\u003e2.0\u003c/td\u003e\n      \u003ctd\u003e55.0\u003c/td\u003e\n    \u003c/tr\u003e\n    \u003ctr\u003e\n      \u003cth\u003e2\u003c/th\u003e\n      \u003ctd\u003e8.0\u003c/td\u003e\n      \u003ctd\u003e27.0\u003c/td\u003e\n      \u003ctd\u003e8.0\u003c/td\u003e\n      \u003ctd\u003e27.0\u003c/td\u003e\n      \u003ctd\u003e8.0\u003c/td\u003e\n      \u003ctd\u003e27.0\u003c/td\u003e\n      \u003ctd\u003e8.0\u003c/td\u003e\n      \u003ctd\u003e27.0\u003c/td\u003e\n      \u003ctd\u003e12.0\u003c/td\u003e\n      \u003ctd\u003e26.0\u003c/td\u003e\n      \u003ctd\u003e...\u003c/td\u003e\n      \u003ctd\u003e12.0\u003c/td\u003e\n      \u003ctd\u003e32.0\u003c/td\u003e\n      \u003ctd\u003e12.0\u003c/td\u003e\n      \u003ctd\u003e32.0\u003c/td\u003e\n      \u003ctd\u003e12.0\u003c/td\u003e\n      \u003ctd\u003e32.0\u003c/td\u003e\n      \u003ctd\u003e46.0\u003c/td\u003e\n      \u003ctd\u003e107.0\u003c/td\u003e\n      \u003ctd\u003e0.0\u003c/td\u003e\n      \u003ctd\u003e36.0\u003c/td\u003e\n    \u003c/tr\u003e\n    \u003ctr\u003e\n      \u003cth\u003e55\u003c/th\u003e\n      \u003ctd\u003e5.0\u003c/td\u003e\n      \u003ctd\u003e30.0\u003c/td\u003e\n      \u003ctd\u003e5.0\u003c/td\u003e\n      \u003ctd\u003e30.0\u003c/td\u003e\n      \u003ctd\u003e5.0\u003c/td\u003e\n      \u003ctd\u003e30.0\u003c/td\u003e\n      \u003ctd\u003e5.0\u003c/td\u003e\n      \u003ctd\u003e30.0\u003c/td\u003e\n      \u003ctd\u003e5.0\u003c/td\u003e\n      \u003ctd\u003e30.0\u003c/td\u003e\n      \u003ctd\u003e...\u003c/td\u003e\n      \u003ctd\u003e12.0\u003c/td\u003e\n      \u003ctd\u003e35.0\u003c/td\u003e\n      \u003ctd\u003e12.0\u003c/td\u003e\n      \u003ctd\u003e35.0\u003c/td\u003e\n      \u003ctd\u003e12.0\u003c/td\u003e\n      \u003ctd\u003e35.0\u003c/td\u003e\n      \u003ctd\u003e22.0\u003c/td\u003e\n      \u003ctd\u003e104.0\u003c/td\u003e\n      \u003ctd\u003e0.0\u003c/td\u003e\n      \u003ctd\u003e38.0\u003c/td\u003e\n    \u003c/tr\u003e\n    \u003ctr\u003e\n      \u003cth\u003e75\u003c/th\u003e\n      \u003ctd\u003e12.0\u003c/td\u003e\n      \u003ctd\u003e24.0\u003c/td\u003e\n      \u003ctd\u003e12.0\u003c/td\u003e\n      \u003ctd\u003e24.0\u003c/td\u003e\n      \u003ctd\u003e12.0\u003c/td\u003e\n      \u003ctd\u003e24.0\u003c/td\u003e\n      \u003ctd\u003e12.0\u003c/td\u003e\n      \u003ctd\u003e24.0\u003c/td\u003e\n      \u003ctd\u003e8.0\u003c/td\u003e\n      \u003ctd\u003e26.0\u003c/td\u003e\n      \u003ctd\u003e...\u003c/td\u003e\n      \u003ctd\u003e12.0\u003c/td\u003e\n      \u003ctd\u003e31.0\u003c/td\u003e\n      \u003ctd\u003e12.0\u003c/td\u003e\n      \u003ctd\u003e31.0\u003c/td\u003e\n      \u003ctd\u003e12.0\u003c/td\u003e\n      \u003ctd\u003e31.0\u003c/td\u003e\n      \u003ctd\u003e50.0\u003c/td\u003e\n      \u003ctd\u003e61.0\u003c/td\u003e\n      \u003ctd\u003e1.0\u003c/td\u003e\n      \u003ctd\u003e35.0\u003c/td\u003e\n    \u003c/tr\u003e\n  \u003c/tbody\u003e\n\u003c/table\u003e\n\u003cp\u003e5 rows × 184 columns\u003c/p\u003e\n\u003c/div\u003e"
          },
          "metadata": {},
          "output_type": "execute_result",
          "execution_count": 102
        }
      ],
      "source": "X.head()"
    },
    {
      "cell_type": "markdown",
      "source": "",
      "metadata": {
        "pycharm": {
          "metadata": false
        }
      }
    },
    {
      "cell_type": "code",
      "execution_count": 101,
      "outputs": [
        {
          "name": "stdout",
          "text": [
            "Explained variation per principal component: [0.62424181 0.0619431  0.03172018]\n"
          ],
          "output_type": "stream"
        },
        {
          "data": {
            "text/plain": "\u003cFigure size 1152x720 with 1 Axes\u003e",
            "image/png": "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\u003d\u003d\n"
          },
          "metadata": {
            "needs_background": "light"
          },
          "output_type": "display_data"
        }
      ],
      "source": "# plotting the data using PCA\nfrom visualizers import model_plotter\nmodel_plotter.Reducer_plotter.pca_plot(Xtrain)",
      "metadata": {
        "pycharm": {
          "metadata": false,
          "name": "#%%\n"
        }
      }
    },
    {
      "cell_type": "markdown",
      "source": "\n# Basic linear regression",
      "metadata": {
        "pycharm": {
          "metadata": false
        }
      }
    },
    {
      "cell_type": "code",
      "execution_count": 100,
      "metadata": {
        "colab": {
          "base_uri": "https://localhost:8080/",
          "height": 52
        },
        "colab_type": "code",
        "id": "Pd8rUO-P6EDW",
        "outputId": "c68f1438-d9ba-46ba-9262-c9b604c01069",
        "pycharm": {}
      },
      "outputs": [
        {
          "name": "stdout",
          "text": [
            "Mean squared error: 0.40\nCoefficient of determination: 0.99\n"
          ],
          "output_type": "stream"
        }
      ],
      "source": "from sklearn.linear_model import LinearRegression\nfrom sklearn.metrics import mean_squared_error, r2_score\n\n#Träna modellen\nlr \u003d LinearRegression()\nlr.fit(Xtrain,Ytrain)\n\n#Använd på testsettet\nYpred \u003d lr.predict(Xtest)\n\nlr_mean_squared_error \u003d mean_squared_error(Ytest, Ypred)\nlr_r2_score \u003d r2_score(Ytest, Ypred)\n\nprint_mean_squared_error(lr_mean_squared_error)\nprint_coefficient_of_determination(lr_r2_score)\n\n"
    },
    {
      "cell_type": "markdown",
      "metadata": {
        "pycharm": {}
      },
      "source": [
        "## Ridge regression"
      ]
    },
    {
      "cell_type": "code",
      "execution_count": 12,
      "metadata": {
        "colab": {
          "base_uri": "https://localhost:8080/",
          "height": 52
        },
        "colab_type": "code",
        "id": "S3GyJmzz7Pvi",
        "outputId": "6926f213-c492-4ff9-eff7-35937b0c2d8a",
        "pycharm": {}
      },
      "outputs": [
        {
          "name": "stdout",
          "text": [
            "Mean squared error: 0.38\nCoefficient of determination: 0.99\n"
          ],
          "output_type": "stream"
        }
      ],
      "source": [
        "#Ridge regression\n",
        "from sklearn.linear_model import Ridge\n",
        "ridge \u003d Ridge(alpha\u003d1.0)\n",
        "ridge.fit(Xtrain, Ytrain)\n",
        "# Ridge()\n",
        "ridge_Ypred \u003d ridge.predict(Xtest)\n",
        "\n",
        "ridge_mean_squared_error \u003d mean_squared_error(Ytest, ridge_Ypred)\n",
        "ridge_r2_score \u003d r2_score(Ytest, ridge_Ypred)\n",
        "\n",
        "print_mean_squared_error(ridge_mean_squared_error)\n",
        "print_coefficient_of_determination(ridge_r2_score)"
      ]
    },
    {
      "cell_type": "code",
      "execution_count": 13,
      "metadata": {
        "colab": {
          "base_uri": "https://localhost:8080/",
          "height": 108
        },
        "colab_type": "code",
        "id": "cdUyePDX71iQ",
        "outputId": "83271357-78a6-44b8-d26d-42b6488f0625",
        "pycharm": {}
      },
      "outputs": [
        {
          "name": "stdout",
          "text": [
            "Mean squared error: 0.63\nCoefficient of determination: 0.99\n"
          ],
          "output_type": "stream"
        }
      ],
      "source": [
        "from sklearn import linear_model\n",
        "lasso \u003d linear_model.Lasso(alpha\u003d0.1)\n",
        "lasso.fit(Xtrain,Ytrain)\n",
        "lasso_Ypred \u003d lasso.predict(Xtest)\n",
        "\n",
        "lasso_mean_squared_error \u003d mean_squared_error(Ytest, lasso_Ypred)\n",
        "lasso_r2_score \u003d r2_score(Ytest, lasso_Ypred)\n",
        "\n",
        "print_mean_squared_error(lasso_mean_squared_error)\n",
        "print_coefficient_of_determination(lasso_r2_score)"
      ]
    },
    {
      "cell_type": "markdown",
      "metadata": {
        "pycharm": {}
      },
      "source": [
        "## Summaries of the result"
      ]
    },
    {
      "cell_type": "code",
      "execution_count": 14,
      "metadata": {
        "pycharm": {}
      },
      "outputs": [
        {
          "name": "stdout",
          "text": [
            "Normal linear regression:\nMean squared error: 0.40\nCoefficient of determination: 0.99\n\n\nRidge regression:\nMean squared error: 0.38\nCoefficient of determination: 0.99\n\n\nLasso regression:\nMean squared error: 0.63\nCoefficient of determination: 0.99\n\n\n"
          ],
          "output_type": "stream"
        }
      ],
      "source": "print(\"Normal linear regression:\")\nprint_mean_squared_error(lr_mean_squared_error)\nprint_coefficient_of_determination(lr_r2_score)\nprint(\"\\n\")\n\nprint(\"Ridge regression:\")\nprint_mean_squared_error(ridge_mean_squared_error)\nprint_coefficient_of_determination(ridge_r2_score)\nprint(\"\\n\")\n\nprint(\"Lasso regression:\")\nprint_mean_squared_error(lasso_mean_squared_error)\nprint_coefficient_of_determination(lasso_r2_score)\nprint(\"\\n\")\n\n\n"
    }
  ],
  "metadata": {
    "colab": {
      "collapsed_sections": [],
      "name": "Untitled0.ipynb",
      "provenance": []
    },
    "kernelspec": {
      "display_name": "Python 3",
      "language": "python",
      "name": "python3"
    },
    "language_info": {
      "codemirror_mode": {
        "name": "ipython",
        "version": 3
      },
      "file_extension": ".py",
      "mimetype": "text/x-python",
      "name": "python",
      "nbconvert_exporter": "python",
      "pygments_lexer": "ipython3",
      "version": "3.7.6"
    }
  },
  "nbformat": 4,
  "nbformat_minor": 1
}