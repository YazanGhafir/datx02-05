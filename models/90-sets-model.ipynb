{
  "cells": [
    {
      "cell_type": "markdown",
      "metadata": {
        "pycharm": {}
      },
      "source": [
        "# 90 sets models\n",
        "In this notebook we are creating models for using on the data that are a concatenation of 90 sets in total and the individuals parameters"
      ]
    },
    {
      "cell_type": "code",
      "execution_count": 3,
      "metadata": {
        "pycharm": {}
      },
      "outputs": [],
      "source": [
        "from helpers import print_mean_squared_error, print_coefficient_of_determination"
      ]
    },
    {
      "cell_type": "code",
      "execution_count": 93,
      "metadata": {
        "colab": {},
        "colab_type": "code",
        "id": "A1srPiTv5_mg",
        "pycharm": {}
      },
      "outputs": [],
      "source": "import pandas as pd\nfrom sklearn.model_selection import train_test_split\n\nL \u003d []\n\nfor i in range(90):\n    L.append(f\"rep{i}\")\n    L.append(f\"weight{i}\")\n\nL2 \u003d [\"age\", \"person_weight\", \"gender\", \"pre-performance\", \"performance\"]\nL +\u003d L2\n\n# Read the CSV file.\ndata \u003d pd.read_csv(\"./data/regression_dataframes2.csv\", names\u003dL)\n\n# Shuffle the dataset.\ndata_shuffled \u003d data.sample(frac\u003d1.0, random_state\u003d0)\n\nY \u003d data_shuffled[\u0027performance\u0027]\nY.head()\n\n# Split into input part X and output part Y.\nX \u003d data_shuffled.drop(\u0027performance\u0027, axis\u003d1)\n\n# # Partition the data into training and test sets.\nXtrain, Xtest, Ytrain, Ytest \u003d train_test_split(X, Y, test_size\u003d0.2, random_state\u003d0)\n"
    },
    {
      "cell_type": "code",
      "execution_count": 80,
      "metadata": {
        "colab": {
          "base_uri": "https://localhost:8080/",
          "height": 266
        },
        "colab_type": "code",
        "id": "4T41WZMi6VX_",
        "outputId": "dec1e051-15d5-4a57-ac72-a0994afeb9e6",
        "scrolled": true,
        "pycharm": {}
      },
      "outputs": [
        {
          "data": {
            "text/plain": "    rep0  weight0  rep1  weight1  rep2  weight2  rep3  weight3  rep4  weight4  \\\n26   8.0     36.0   8.0     36.0   8.0     36.0   8.0     36.0  12.0     34.0   \n86   8.0     41.0   8.0     41.0   8.0     41.0   8.0     41.0   8.0     42.0   \n2    8.0     27.0   8.0     27.0   8.0     27.0   8.0     27.0  12.0     26.0   \n55   5.0     30.0   5.0     30.0   5.0     30.0   5.0     30.0   5.0     30.0   \n75  12.0     24.0  12.0     24.0  12.0     24.0  12.0     24.0   8.0     26.0   \n\n    ...  rep87  weight87  rep88  weight88  rep89  weight89   age  \\\n26  ...    8.0      46.0    8.0      46.0    8.0      46.0  21.0   \n86  ...    8.0      53.0    8.0      53.0   12.0      50.0  18.0   \n2   ...   12.0      32.0   12.0      32.0   12.0      32.0  46.0   \n55  ...   12.0      35.0   12.0      35.0   12.0      35.0  22.0   \n75  ...   12.0      31.0   12.0      31.0   12.0      31.0  50.0   \n\n    person_weight  gender  pre-performance  \n26           89.0     2.0             48.0  \n86           66.0     2.0             55.0  \n2           107.0     0.0             36.0  \n55          104.0     0.0             38.0  \n75           61.0     1.0             35.0  \n\n[5 rows x 184 columns]",
            "text/html": "\u003cdiv\u003e\n\u003cstyle scoped\u003e\n    .dataframe tbody tr th:only-of-type {\n        vertical-align: middle;\n    }\n\n    .dataframe tbody tr th {\n        vertical-align: top;\n    }\n\n    .dataframe thead th {\n        text-align: right;\n    }\n\u003c/style\u003e\n\u003ctable border\u003d\"1\" class\u003d\"dataframe\"\u003e\n  \u003cthead\u003e\n    \u003ctr style\u003d\"text-align: right;\"\u003e\n      \u003cth\u003e\u003c/th\u003e\n      \u003cth\u003erep0\u003c/th\u003e\n      \u003cth\u003eweight0\u003c/th\u003e\n      \u003cth\u003erep1\u003c/th\u003e\n      \u003cth\u003eweight1\u003c/th\u003e\n      \u003cth\u003erep2\u003c/th\u003e\n      \u003cth\u003eweight2\u003c/th\u003e\n      \u003cth\u003erep3\u003c/th\u003e\n      \u003cth\u003eweight3\u003c/th\u003e\n      \u003cth\u003erep4\u003c/th\u003e\n      \u003cth\u003eweight4\u003c/th\u003e\n      \u003cth\u003e...\u003c/th\u003e\n      \u003cth\u003erep87\u003c/th\u003e\n      \u003cth\u003eweight87\u003c/th\u003e\n      \u003cth\u003erep88\u003c/th\u003e\n      \u003cth\u003eweight88\u003c/th\u003e\n      \u003cth\u003erep89\u003c/th\u003e\n      \u003cth\u003eweight89\u003c/th\u003e\n      \u003cth\u003eage\u003c/th\u003e\n      \u003cth\u003eperson_weight\u003c/th\u003e\n      \u003cth\u003egender\u003c/th\u003e\n      \u003cth\u003epre-performance\u003c/th\u003e\n    \u003c/tr\u003e\n  \u003c/thead\u003e\n  \u003ctbody\u003e\n    \u003ctr\u003e\n      \u003cth\u003e26\u003c/th\u003e\n      \u003ctd\u003e8.0\u003c/td\u003e\n      \u003ctd\u003e36.0\u003c/td\u003e\n      \u003ctd\u003e8.0\u003c/td\u003e\n      \u003ctd\u003e36.0\u003c/td\u003e\n      \u003ctd\u003e8.0\u003c/td\u003e\n      \u003ctd\u003e36.0\u003c/td\u003e\n      \u003ctd\u003e8.0\u003c/td\u003e\n      \u003ctd\u003e36.0\u003c/td\u003e\n      \u003ctd\u003e12.0\u003c/td\u003e\n      \u003ctd\u003e34.0\u003c/td\u003e\n      \u003ctd\u003e...\u003c/td\u003e\n      \u003ctd\u003e8.0\u003c/td\u003e\n      \u003ctd\u003e46.0\u003c/td\u003e\n      \u003ctd\u003e8.0\u003c/td\u003e\n      \u003ctd\u003e46.0\u003c/td\u003e\n      \u003ctd\u003e8.0\u003c/td\u003e\n      \u003ctd\u003e46.0\u003c/td\u003e\n      \u003ctd\u003e21.0\u003c/td\u003e\n      \u003ctd\u003e89.0\u003c/td\u003e\n      \u003ctd\u003e2.0\u003c/td\u003e\n      \u003ctd\u003e48.0\u003c/td\u003e\n    \u003c/tr\u003e\n    \u003ctr\u003e\n      \u003cth\u003e86\u003c/th\u003e\n      \u003ctd\u003e8.0\u003c/td\u003e\n      \u003ctd\u003e41.0\u003c/td\u003e\n      \u003ctd\u003e8.0\u003c/td\u003e\n      \u003ctd\u003e41.0\u003c/td\u003e\n      \u003ctd\u003e8.0\u003c/td\u003e\n      \u003ctd\u003e41.0\u003c/td\u003e\n      \u003ctd\u003e8.0\u003c/td\u003e\n      \u003ctd\u003e41.0\u003c/td\u003e\n      \u003ctd\u003e8.0\u003c/td\u003e\n      \u003ctd\u003e42.0\u003c/td\u003e\n      \u003ctd\u003e...\u003c/td\u003e\n      \u003ctd\u003e8.0\u003c/td\u003e\n      \u003ctd\u003e53.0\u003c/td\u003e\n      \u003ctd\u003e8.0\u003c/td\u003e\n      \u003ctd\u003e53.0\u003c/td\u003e\n      \u003ctd\u003e12.0\u003c/td\u003e\n      \u003ctd\u003e50.0\u003c/td\u003e\n      \u003ctd\u003e18.0\u003c/td\u003e\n      \u003ctd\u003e66.0\u003c/td\u003e\n      \u003ctd\u003e2.0\u003c/td\u003e\n      \u003ctd\u003e55.0\u003c/td\u003e\n    \u003c/tr\u003e\n    \u003ctr\u003e\n      \u003cth\u003e2\u003c/th\u003e\n      \u003ctd\u003e8.0\u003c/td\u003e\n      \u003ctd\u003e27.0\u003c/td\u003e\n      \u003ctd\u003e8.0\u003c/td\u003e\n      \u003ctd\u003e27.0\u003c/td\u003e\n      \u003ctd\u003e8.0\u003c/td\u003e\n      \u003ctd\u003e27.0\u003c/td\u003e\n      \u003ctd\u003e8.0\u003c/td\u003e\n      \u003ctd\u003e27.0\u003c/td\u003e\n      \u003ctd\u003e12.0\u003c/td\u003e\n      \u003ctd\u003e26.0\u003c/td\u003e\n      \u003ctd\u003e...\u003c/td\u003e\n      \u003ctd\u003e12.0\u003c/td\u003e\n      \u003ctd\u003e32.0\u003c/td\u003e\n      \u003ctd\u003e12.0\u003c/td\u003e\n      \u003ctd\u003e32.0\u003c/td\u003e\n      \u003ctd\u003e12.0\u003c/td\u003e\n      \u003ctd\u003e32.0\u003c/td\u003e\n      \u003ctd\u003e46.0\u003c/td\u003e\n      \u003ctd\u003e107.0\u003c/td\u003e\n      \u003ctd\u003e0.0\u003c/td\u003e\n      \u003ctd\u003e36.0\u003c/td\u003e\n    \u003c/tr\u003e\n    \u003ctr\u003e\n      \u003cth\u003e55\u003c/th\u003e\n      \u003ctd\u003e5.0\u003c/td\u003e\n      \u003ctd\u003e30.0\u003c/td\u003e\n      \u003ctd\u003e5.0\u003c/td\u003e\n      \u003ctd\u003e30.0\u003c/td\u003e\n      \u003ctd\u003e5.0\u003c/td\u003e\n      \u003ctd\u003e30.0\u003c/td\u003e\n      \u003ctd\u003e5.0\u003c/td\u003e\n      \u003ctd\u003e30.0\u003c/td\u003e\n      \u003ctd\u003e5.0\u003c/td\u003e\n      \u003ctd\u003e30.0\u003c/td\u003e\n      \u003ctd\u003e...\u003c/td\u003e\n      \u003ctd\u003e12.0\u003c/td\u003e\n      \u003ctd\u003e35.0\u003c/td\u003e\n      \u003ctd\u003e12.0\u003c/td\u003e\n      \u003ctd\u003e35.0\u003c/td\u003e\n      \u003ctd\u003e12.0\u003c/td\u003e\n      \u003ctd\u003e35.0\u003c/td\u003e\n      \u003ctd\u003e22.0\u003c/td\u003e\n      \u003ctd\u003e104.0\u003c/td\u003e\n      \u003ctd\u003e0.0\u003c/td\u003e\n      \u003ctd\u003e38.0\u003c/td\u003e\n    \u003c/tr\u003e\n    \u003ctr\u003e\n      \u003cth\u003e75\u003c/th\u003e\n      \u003ctd\u003e12.0\u003c/td\u003e\n      \u003ctd\u003e24.0\u003c/td\u003e\n      \u003ctd\u003e12.0\u003c/td\u003e\n      \u003ctd\u003e24.0\u003c/td\u003e\n      \u003ctd\u003e12.0\u003c/td\u003e\n      \u003ctd\u003e24.0\u003c/td\u003e\n      \u003ctd\u003e12.0\u003c/td\u003e\n      \u003ctd\u003e24.0\u003c/td\u003e\n      \u003ctd\u003e8.0\u003c/td\u003e\n      \u003ctd\u003e26.0\u003c/td\u003e\n      \u003ctd\u003e...\u003c/td\u003e\n      \u003ctd\u003e12.0\u003c/td\u003e\n      \u003ctd\u003e31.0\u003c/td\u003e\n      \u003ctd\u003e12.0\u003c/td\u003e\n      \u003ctd\u003e31.0\u003c/td\u003e\n      \u003ctd\u003e12.0\u003c/td\u003e\n      \u003ctd\u003e31.0\u003c/td\u003e\n      \u003ctd\u003e50.0\u003c/td\u003e\n      \u003ctd\u003e61.0\u003c/td\u003e\n      \u003ctd\u003e1.0\u003c/td\u003e\n      \u003ctd\u003e35.0\u003c/td\u003e\n    \u003c/tr\u003e\n  \u003c/tbody\u003e\n\u003c/table\u003e\n\u003cp\u003e5 rows × 184 columns\u003c/p\u003e\n\u003c/div\u003e"
          },
          "metadata": {},
          "output_type": "execute_result",
          "execution_count": 80
        }
      ],
      "source": [
        "X.head()"
      ]
    },
    {
      "cell_type": "markdown",
      "metadata": {
        "pycharm": {}
      },
      "source": [
        "# Basic linear regression"
      ]
    },
    {
      "cell_type": "code",
      "execution_count": 92,
      "metadata": {
        "colab": {
          "base_uri": "https://localhost:8080/",
          "height": 52
        },
        "colab_type": "code",
        "id": "Pd8rUO-P6EDW",
        "outputId": "c68f1438-d9ba-46ba-9262-c9b604c01069",
        "pycharm": {}
      },
      "outputs": [
        {
          "name": "stdout",
          "text": [
            "Mean squared error: 0.40\nCoefficient of determination: 0.99\nSize of the dataframe: (20, 184)\nXtest 3680\nYtest 20\n    rep0  weight0  rep1  weight1  rep2  weight2  rep3  weight3  rep4  weight4  \\\n6    5.0     38.0   5.0     38.0   5.0     38.0   5.0     38.0   5.0     38.0   \n58   5.0     32.0   5.0     32.0   5.0     32.0   5.0     32.0   5.0     32.0   \n2    8.0     27.0   8.0     27.0   8.0     27.0   8.0     27.0  12.0     26.0   \n50   5.0     39.0   5.0     39.0   5.0     39.0   5.0     39.0   5.0     39.0   \n69   8.0     36.0   8.0     36.0   8.0     36.0   8.0     36.0   8.0     36.0   \n83   5.0     38.0   5.0     38.0   5.0     38.0   5.0     38.0   5.0     38.0   \n22   8.0     46.0   8.0     46.0   8.0     46.0   8.0     46.0  12.0     44.0   \n96  12.0     34.0  12.0     34.0  12.0     34.0  12.0     34.0   8.0     37.0   \n28   8.0     33.0   8.0     33.0   8.0     33.0   8.0     33.0   5.0     36.0   \n95  12.0     35.0  12.0     35.0  12.0     35.0  12.0     35.0   5.0     40.0   \n34  12.0     36.0  12.0     36.0  12.0     36.0  12.0     36.0  12.0     37.0   \n21   5.0     31.0   5.0     31.0   5.0     31.0   5.0     31.0   5.0     31.0   \n72  12.0     37.0  12.0     37.0  12.0     37.0  12.0     37.0   8.0     40.0   \n13   8.0     46.0   8.0     46.0   8.0     46.0   8.0     46.0  12.0     43.0   \n73   5.0     38.0   5.0     38.0   5.0     38.0   5.0     38.0   5.0     38.0   \n60  12.0     28.0  12.0     28.0  12.0     28.0  12.0     28.0   5.0     32.0   \n3   12.0     35.0  12.0     35.0  12.0     35.0  12.0     35.0  12.0     35.0   \n45   8.0     44.0   8.0     44.0   8.0     44.0   8.0     44.0  12.0     41.0   \n68   5.0     41.0   5.0     41.0   5.0     41.0   5.0     41.0   5.0     41.0   \n54   8.0     35.0   8.0     35.0   8.0     35.0   8.0     35.0   8.0     36.0   \n\n    ...  weight88  rep89  weight89   age  person_weight  gender  \\\n6   ...      44.0    8.0      44.0  29.0           81.0     1.0   \n58  ...      41.0   12.0      37.0  25.0           88.0     0.0   \n2   ...      32.0   12.0      32.0  46.0          107.0     0.0   \n50  ...      47.0    8.0      47.0  50.0           84.0     1.0   \n69  ...      43.0   12.0      43.0  34.0           69.0     1.0   \n83  ...      42.0   12.0      42.0  32.0          106.0     0.0   \n22  ...      56.0   12.0      56.0  38.0           71.0     2.0   \n96  ...      44.0   12.0      44.0  28.0           74.0     2.0   \n28  ...      42.0    8.0      43.0  20.0          104.0     0.0   \n95  ...      43.0    8.0      47.0  32.0           96.0     1.0   \n34  ...      49.0    8.0      49.0  42.0           92.0     2.0   \n21  ...      36.0    5.0      39.0  41.0          108.0     0.0   \n72  ...      48.0   12.0      48.0  27.0          103.0     1.0   \n13  ...      61.0    5.0      61.0  47.0           66.0     2.0   \n73  ...      44.0    8.0      44.0  38.0           89.0     0.0   \n60  ...      41.0    5.0      41.0  23.0           63.0     2.0   \n3   ...      47.0    5.0      51.0  47.0           90.0     0.0   \n45  ...      54.0    8.0      54.0  30.0           67.0     1.0   \n68  ...      48.0    8.0      49.0  42.0           81.0     0.0   \n54  ...      42.0   12.0      43.0  28.0           77.0     1.0   \n\n    pre-performance     pca-one    pca-two  pca-three  \n6              47.0  -12.369386   9.303675   2.015917  \n58             40.0  -57.541725  14.957042  -9.059852  \n2              36.0 -102.326384 -14.971238  17.246941  \n50             49.0   11.045940   3.930220   3.091470  \n69             48.0   -0.005674  23.360098  -1.645738  \n83             47.0  -24.377956 -22.005413   8.980089  \n22             62.0  122.550143  -7.499511   9.414916  \n96             49.0    8.964337  16.863139   8.521485  \n28             44.0  -41.933632  -4.170961 -20.717122  \n95             50.0    5.642450 -15.002663 -23.449842  \n34             52.0   21.785841  -0.147839 -21.847292  \n21             39.0  -78.185846 -19.633274  16.934974  \n72             53.0   39.881453 -25.502589 -26.108892  \n13             61.0  103.089283  -4.588164  27.882737  \n73             47.0  -16.341157 -16.069106  12.226036  \n60             40.0  -65.510991  35.019118   2.205374  \n3              50.0    5.989206  -3.972678   3.368837  \n45             58.0   63.609546  24.823043   0.282607  \n68             51.0   21.698232   0.232713 -10.720871  \n54             47.0   -5.663681   5.074386   1.378227  \n\n[20 rows x 187 columns]\nExplained variation per principal component: [0.69623406 0.06275549 0.04824979]\n"
          ],
          "output_type": "stream"
        },
        {
          "data": {
            "text/plain": "\u0027\\nsns.scatterplot(\\n    x\u003d\"pca-one\", y\u003d\"pca-two\",\\n    hue\u003d\"Ytest\",\\n    palette\u003dsns.color_palette(\"hls\", 10),\\n    data\u003dXtest_plot.loc[:,:],\\n    legend\u003d\"full\",\\n    alpha\u003d0.3\\n)\\n\u0027"
          },
          "metadata": {},
          "output_type": "execute_result",
          "execution_count": 92
        },
        {
          "data": {
            "text/plain": "\u003cFigure size 1152x720 with 1 Axes\u003e",
            "image/png": "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\u003d\n"
          },
          "metadata": {
            "needs_background": "light"
          },
          "output_type": "display_data"
        }
      ],
      "source": "from sklearn.linear_model import LinearRegression\nfrom sklearn.metrics import mean_squared_error, r2_score\n\n#Träna modellen\nlr \u003d LinearRegression()\nlr.fit(Xtrain,Ytrain)\n\n#Använd på testsettet\nYpred \u003d lr.predict(Xtest)\n\nlr_mean_squared_error \u003d mean_squared_error(Ytest, Ypred)\nlr_r2_score \u003d r2_score(Ytest, Ypred)\n\nprint_mean_squared_error(lr_mean_squared_error)\nprint_coefficient_of_determination(lr_r2_score)\n\n\n"
    },
    {
      "cell_type": "markdown",
      "metadata": {
        "pycharm": {}
      },
      "source": [
        "## Ridge regression"
      ]
    },
    {
      "cell_type": "code",
      "execution_count": 12,
      "metadata": {
        "colab": {
          "base_uri": "https://localhost:8080/",
          "height": 52
        },
        "colab_type": "code",
        "id": "S3GyJmzz7Pvi",
        "outputId": "6926f213-c492-4ff9-eff7-35937b0c2d8a",
        "pycharm": {}
      },
      "outputs": [
        {
          "name": "stdout",
          "text": [
            "Mean squared error: 0.38\nCoefficient of determination: 0.99\n"
          ],
          "output_type": "stream"
        }
      ],
      "source": [
        "#Ridge regression\n",
        "from sklearn.linear_model import Ridge\n",
        "ridge \u003d Ridge(alpha\u003d1.0)\n",
        "ridge.fit(Xtrain, Ytrain)\n",
        "# Ridge()\n",
        "ridge_Ypred \u003d ridge.predict(Xtest)\n",
        "\n",
        "ridge_mean_squared_error \u003d mean_squared_error(Ytest, ridge_Ypred)\n",
        "ridge_r2_score \u003d r2_score(Ytest, ridge_Ypred)\n",
        "\n",
        "print_mean_squared_error(ridge_mean_squared_error)\n",
        "print_coefficient_of_determination(ridge_r2_score)"
      ]
    },
    {
      "cell_type": "code",
      "execution_count": 13,
      "metadata": {
        "colab": {
          "base_uri": "https://localhost:8080/",
          "height": 108
        },
        "colab_type": "code",
        "id": "cdUyePDX71iQ",
        "outputId": "83271357-78a6-44b8-d26d-42b6488f0625",
        "pycharm": {}
      },
      "outputs": [
        {
          "name": "stdout",
          "text": [
            "Mean squared error: 0.63\nCoefficient of determination: 0.99\n"
          ],
          "output_type": "stream"
        }
      ],
      "source": [
        "from sklearn import linear_model\n",
        "lasso \u003d linear_model.Lasso(alpha\u003d0.1)\n",
        "lasso.fit(Xtrain,Ytrain)\n",
        "lasso_Ypred \u003d lasso.predict(Xtest)\n",
        "\n",
        "lasso_mean_squared_error \u003d mean_squared_error(Ytest, lasso_Ypred)\n",
        "lasso_r2_score \u003d r2_score(Ytest, lasso_Ypred)\n",
        "\n",
        "print_mean_squared_error(lasso_mean_squared_error)\n",
        "print_coefficient_of_determination(lasso_r2_score)"
      ]
    },
    {
      "cell_type": "markdown",
      "metadata": {
        "pycharm": {}
      },
      "source": [
        "## Summaries of the result"
      ]
    },
    {
      "cell_type": "code",
      "execution_count": 14,
      "metadata": {
        "pycharm": {}
      },
      "outputs": [
        {
          "name": "stdout",
          "text": [
            "Normal linear regression:\nMean squared error: 0.40\nCoefficient of determination: 0.99\n\n\nRidge regression:\nMean squared error: 0.38\nCoefficient of determination: 0.99\n\n\nLasso regression:\nMean squared error: 0.63\nCoefficient of determination: 0.99\n\n\n"
          ],
          "output_type": "stream"
        }
      ],
      "source": [
        "print(\"Normal linear regression:\")\n",
        "print_mean_squared_error(lr_mean_squared_error)\n",
        "print_coefficient_of_determination(lr_r2_score)\n",
        "print(\"\\n\")\n",
        "\n",
        "print(\"Ridge regression:\")\n",
        "print_mean_squared_error(ridge_mean_squared_error)\n",
        "print_coefficient_of_determination(ridge_r2_score)\n",
        "print(\"\\n\")\n",
        "\n",
        "print(\"Lasso regression:\")\n",
        "print_mean_squared_error(lasso_mean_squared_error)\n",
        "print_coefficient_of_determination(lasso_r2_score)\n",
        "print(\"\\n\")"
      ]
    }
  ],
  "metadata": {
    "colab": {
      "collapsed_sections": [],
      "name": "Untitled0.ipynb",
      "provenance": []
    },
    "kernelspec": {
      "display_name": "Python 3",
      "language": "python",
      "name": "python3"
    },
    "language_info": {
      "codemirror_mode": {
        "name": "ipython",
        "version": 3
      },
      "file_extension": ".py",
      "mimetype": "text/x-python",
      "name": "python",
      "nbconvert_exporter": "python",
      "pygments_lexer": "ipython3",
      "version": "3.7.6"
    }
  },
  "nbformat": 4,
  "nbformat_minor": 1
}